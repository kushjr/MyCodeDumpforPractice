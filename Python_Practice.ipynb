{
  "nbformat": 4,
  "nbformat_minor": 0,
  "metadata": {
    "colab": {
      "provenance": [],
      "authorship_tag": "ABX9TyPyH1/uimKrNC01dJL+rvIO",
      "include_colab_link": true
    },
    "kernelspec": {
      "name": "python3",
      "display_name": "Python 3"
    },
    "language_info": {
      "name": "python"
    }
  },
  "cells": [
    {
      "cell_type": "markdown",
      "metadata": {
        "id": "view-in-github",
        "colab_type": "text"
      },
      "source": [
        "<a href=\"https://colab.research.google.com/github/kushjr/MyCodeDumpforPractice/blob/main/Python_Practice.ipynb\" target=\"_parent\"><img src=\"https://colab.research.google.com/assets/colab-badge.svg\" alt=\"Open In Colab\"/></a>"
      ]
    },
    {
      "cell_type": "markdown",
      "source": [
        "# First Algos\n",
        "\n",
        "Binary Search"
      ],
      "metadata": {
        "id": "jy9x64pLgoVg"
      }
    },
    {
      "cell_type": "code",
      "source": [
        "#Binary Search algorithm\n",
        "\n",
        "def BinarySearch(myList,target):\n",
        "    left =0\n",
        "    right = len(myList) -1                # Dont Forget -1\n",
        "    while left <= right:\n",
        "        mid = ( left + right ) //2        # Dont Forget int division (//)\n",
        "        if target == myList[mid]:         # Case: Found, Return mid\n",
        "            return mid\n",
        "        elif target < myList[mid]:        # Case: Left Sub Array (right = mid-1)\n",
        "            right = mid -1\n",
        "        elif target > myList[mid]:        # Case: Right Sub array(left = mid +1) \n",
        "            left = mid +1\n",
        "    return -1                             #Case : Not Found\n",
        "\n",
        "\n",
        "#Driver Code\n",
        "\n",
        "myList= [1,2,3,4,5,6,7,8,9]\n",
        "k= 7\n",
        "print(BinarySearch(myList,k))"
      ],
      "metadata": {
        "colab": {
          "base_uri": "https://localhost:8080/"
        },
        "id": "ULV-m9t0g9uk",
        "outputId": "3ee81898-6508-496f-b694-3da2ae5930ed"
      },
      "execution_count": 5,
      "outputs": [
        {
          "output_type": "stream",
          "name": "stdout",
          "text": [
            "6\n"
          ]
        }
      ]
    },
    {
      "cell_type": "markdown",
      "source": [
        "Sliding window of Sums"
      ],
      "metadata": {
        "id": "Cv7MR4ZHixSC"
      }
    },
    {
      "cell_type": "code",
      "source": [
        "#Sliding Window of sums\n",
        "\n",
        "def SlidingWindow(myList,windowSize):\n",
        "    lenMyList = len(myList)\n",
        "    if windowSize > lenMyList:\n",
        "        return \"Wrong Input\"\n",
        "    windowSum = sum(myList[i] for i in range(windowSize))\n",
        "    maxSum = windowSum\n",
        "    for i in range(lenMyList - windowSize):\n",
        "        windowSum = windowSum + myList[i+windowSize] - myList[i]\n",
        "        maxSum = max(maxSum,windowSum)\n",
        "    return maxSum\n",
        "\n",
        "        \n",
        "    \n",
        "#Driver Code\n",
        "\n",
        "myList = [89,1,2,3,4,5,6,7,8,9,10]\n",
        "k = 2\n",
        "print(SlidingWindow(myList,k))"
      ],
      "metadata": {
        "id": "U0FV4oOShOWc"
      },
      "execution_count": null,
      "outputs": []
    },
    {
      "cell_type": "markdown",
      "source": [
        "\n",
        "\n",
        "---\n",
        "\n",
        "# Array Manupulation\n",
        "\n",
        "Move Zeros to the end of the string (In Place, no aux array)"
      ],
      "metadata": {
        "id": "fLyjfTGOjp2h"
      }
    },
    {
      "cell_type": "code",
      "source": [
        "#Shifting zeros\n",
        "\n",
        "def Shifter(myList):\n",
        "    lenGTH = len(myList)\n",
        "    nzCounter = 0\n",
        "    for i in range(lenGTH):\n",
        "        if myList[i] !=0:\n",
        "            myList[nzCounter] = myList[i]\n",
        "            nzCounter +=1\n",
        "    for i in range(nzCounter,lenGTH):\n",
        "        myList[i] = 0\n",
        "    return myList\n",
        "\n",
        "\n",
        "myList = [1,0,3,0,5,0,7,8,0]\n",
        "print(Shifter(myList))"
      ],
      "metadata": {
        "colab": {
          "base_uri": "https://localhost:8080/"
        },
        "id": "h7ry_S_tj0FN",
        "outputId": "82cc21a9-c51c-4bed-fdb4-b84348996d7f"
      },
      "execution_count": 6,
      "outputs": [
        {
          "output_type": "stream",
          "name": "stdout",
          "text": [
            "[1, 3, 5, 7, 8, 0, 0, 0, 0]\n"
          ]
        }
      ]
    },
    {
      "cell_type": "code",
      "source": [],
      "metadata": {
        "id": "8j2tNaVukMZG"
      },
      "execution_count": null,
      "outputs": []
    }
  ]
}